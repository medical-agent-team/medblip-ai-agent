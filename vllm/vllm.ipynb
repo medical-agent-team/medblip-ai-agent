{
 "cells": [
  {
   "cell_type": "markdown",
   "id": "19b78a90",
   "metadata": {},
   "source": [
    "```\n",
    "docker run -d --name vllm \\\n",
    "  --gpus all \\\n",
    "  --restart unless-stopped \\\n",
    "  --shm-size=8g \\\n",
    "  -e NVIDIA_VISIBLE_DEVICES=all \\\n",
    "  -e NVIDIA_DRIVER_CAPABILITIES=compute,utility \\\n",
    "```"
   ]
  },
  {
   "cell_type": "code",
   "execution_count": null,
   "id": "ac111f32",
   "metadata": {},
   "outputs": [],
   "source": [
    "# mkdir -p /var/log/vllm"
   ]
  },
  {
   "cell_type": "code",
   "execution_count": null,
   "id": "fa2d7534",
   "metadata": {},
   "outputs": [],
   "source": [
    "'''\n",
    "export VLLM_LOGGING_LEVEL=DEBUG\n",
    "export CUDA_VISIBLE_DEVICES=0,1,2,3\n",
    "export PYTORCH_CUDA_ALLOC_CONF=expandable_segments:True\n",
    "'''\n",
    "\n",
    "'''\n",
    "nohup python -u -m vllm.entrypoints.openai.api_server \\\n",
    "  --model /home/models/gpt-oss-20b \\\n",
    "  --host 0.0.0.0 \\\n",
    "  --port 11434 \\\n",
    "  --tensor-parallel-size 4 \\\n",
    "  --dtype bfloat16 \\\n",
    "  --max-model-len 16000 \\\n",
    "  --gpu-memory-utilization 0.75 \\\n",
    "  > /var/log/vllm/server.log 2>&1 &\n",
    "'''"
   ]
  },
  {
   "cell_type": "code",
   "execution_count": null,
   "id": "e5f72fdc",
   "metadata": {},
   "outputs": [],
   "source": [
    "# 디바이스를 잡고 있는 프로세스들 조회 후 제거\n",
    "'''\n",
    "ps aux | grep -E \"vllm\"\n",
    "kill -9 <PID1>\n",
    "\n",
    "lsof /dev/nvidia*\n",
    "kill -9 <PID1> <PID2> ...\n",
    "'''"
   ]
  }
 ],
 "metadata": {
  "kernelspec": {
   "display_name": "py311",
   "language": "python",
   "name": "python3"
  },
  "language_info": {
   "name": "python",
   "version": "3.11.8"
  }
 },
 "nbformat": 4,
 "nbformat_minor": 5
}
